{
 "cells": [
  {
   "cell_type": "code",
   "execution_count": 1,
   "metadata": {},
   "outputs": [
    {
     "data": {
      "text/plain": [
       "('customers_data_new.csv', 'sales_data-2_new.csv')"
      ]
     },
     "execution_count": 1,
     "metadata": {},
     "output_type": "execute_result"
    }
   ],
   "source": [
    "import pandas as pd\n",
    "\n",
    "# File paths\n",
    "file1_path = \"customers_data.csv\"\n",
    "file2_path = \"sales_data-2.csv\"\n",
    "\n",
    "# Load CSV files\n",
    "df1 = pd.read_csv(file1_path)\n",
    "df2 = pd.read_csv(file2_path)\n",
    "\n",
    "# Convert 'Customer_ID' from hexadecimal to decimal (numeric)\n",
    "df1['Customer_ID'] = df1['Customer_ID'].apply(lambda x: int(x, 16))\n",
    "df2['Customer_ID'] = df2['Customer_ID'].apply(lambda x: int(x, 16))\n",
    "\n",
    "# Define new file names\n",
    "new_file1_path = \"customers_data_new.csv\"\n",
    "new_file2_path = \"sales_data-2_new.csv\"\n",
    "\n",
    "# Save modified dataframes to new CSV files\n",
    "df1.to_csv(new_file1_path, index=False)\n",
    "df2.to_csv(new_file2_path, index=False)\n",
    "\n",
    "# Return paths of new files\n",
    "new_file1_path, new_file2_path\n"
   ]
  },
  {
   "cell_type": "code",
   "execution_count": 3,
   "metadata": {},
   "outputs": [
    {
     "name": "stdout",
     "output_type": "stream",
     "text": [
      "Processed sales data saved to: sales_data-2_new.csv\n"
     ]
    }
   ],
   "source": [
    "import pandas as pd\n",
    "\n",
    "# Load sales data\n",
    "sales_file_path = \"sales_data-2.csv\"  # Change this to your actual file path\n",
    "df_sales = pd.read_csv(sales_file_path)\n",
    "\n",
    "# Create Total_Amt column\n",
    "# Total Amount = Quantity * Unit Price\n",
    "df_sales[\"Total_Amt\"] = df_sales[\"Quantity\"] * df_sales[\"Unit_Price\"]\n",
    "\n",
    "# Group by Customer_ID and sum Total_Amt\n",
    "df_grouped = df_sales.groupby(\"Customer_ID\", as_index=False)[\"Total_Amt\"].sum()\n",
    "\n",
    "# Merge back with original data\n",
    "df_sales = df_sales.merge(df_grouped, on=\"Customer_ID\", suffixes=(\"\", \"_Total\"))\n",
    "\n",
    "# Save to new CSV file\n",
    "new_sales_file_path = \"sales_data-2_new.csv\"\n",
    "df_sales.to_csv(new_sales_file_path, index=False)\n",
    "\n",
    "print(f\"Processed sales data saved to: {new_sales_file_path}\")"
   ]
  }
 ],
 "metadata": {
  "kernelspec": {
   "display_name": "Python 3",
   "language": "python",
   "name": "python3"
  },
  "language_info": {
   "codemirror_mode": {
    "name": "ipython",
    "version": 3
   },
   "file_extension": ".py",
   "mimetype": "text/x-python",
   "name": "python",
   "nbconvert_exporter": "python",
   "pygments_lexer": "ipython3",
   "version": "3.12.3"
  }
 },
 "nbformat": 4,
 "nbformat_minor": 2
}
